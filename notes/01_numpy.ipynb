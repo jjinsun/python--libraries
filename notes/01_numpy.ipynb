{
 "cells": [
  {
   "cell_type": "markdown",
   "id": "73e5eb06",
   "metadata": {},
   "source": [
    "### 01. NumPy\n",
    "- 다차원 배열을 쉽고 효율적으로 사용할 수 있도록 지원하는 파이썬 라이브러리\n",
    "- 데이터 분석 라이브러리의 근본!!"
   ]
  },
  {
   "cell_type": "markdown",
   "id": "97d26ccc",
   "metadata": {},
   "source": [
    "### 1-1. ndarray\n",
    "- NumPy의 핵심 데이터 구조\n",
    "- 동일한 자료형의 다차원 배열"
   ]
  },
  {
   "cell_type": "code",
   "execution_count": 2,
   "id": "1e384c2f",
   "metadata": {},
   "outputs": [],
   "source": [
    "import numpy as np"
   ]
  },
  {
   "cell_type": "code",
   "execution_count": null,
   "id": "d4ca80a9",
   "metadata": {},
   "outputs": [
    {
     "name": "stdout",
     "output_type": "stream",
     "text": [
      "배열의 구조: (2, 3)\n",
      "배열의 차원: 2\n",
      "배열의 데이터타입: int64\n",
      "배열의 데이터타입: float64\n",
      "수정한 배열의 데이터타입: float64\n"
     ]
    }
   ],
   "source": [
    "# ndarray의 생성\n",
    "a = np.array([[1,2,3],[4,5,6]]) # 2행, 3열\n",
    "b = np.array([1.0, 3.14, 1.24])\n",
    "\n",
    "# 배열의 구조\n",
    "print(f\"배열의 구조: {a.shape}\")\n",
    "\n",
    "# 배열의 차원 수\n",
    "print(f\"배열의 차원: {a.ndim}\")\n",
    "\n",
    "# 데이터 타입\n",
    "print(f\"배열의 데이터타입: {a.dtype}\")\n",
    "print(f\"배열의 데이터타입: {b.dtype}\")\n",
    "\n",
    "# 형변환\n",
    "new_a = a.astype(np.float64)\n",
    "print(f\"수정한 배열의 데이터타입: {new_a.dtype}\")"
   ]
  },
  {
   "cell_type": "code",
   "execution_count": null,
   "id": "92a0bbfd",
   "metadata": {},
   "outputs": [
    {
     "name": "stdout",
     "output_type": "stream",
     "text": [
      "배열의 구조: (3, 2, 3)\n",
      "배열의 차원: 3\n"
     ]
    }
   ],
   "source": [
    "# 3차원 행렬\n",
    "a = np.array([[[1,2,3],[4,5,6]],\n",
    "                [[1,2,3],[4,5,6]], \n",
    "                [[1,2,3],[4,5,6]]])\n",
    "print(f\"배열의 구조: {a.shape}\")\n",
    "print(f\"배열의 차원: {a.ndim}\")"
   ]
  },
  {
   "cell_type": "code",
   "execution_count": 20,
   "id": "993727c5",
   "metadata": {},
   "outputs": [
    {
     "name": "stdout",
     "output_type": "stream",
     "text": [
      "배열의 구조: (2, 3, 2, 3)\n",
      "배열의 차원: 4\n"
     ]
    }
   ],
   "source": [
    "# 4차원 행렬\n",
    "a = np.array([[[[1,2,3],[4,5,6]],\n",
    "                [[1,2,3],[4,5,6]], \n",
    "                [[1,2,3],[4,5,6]]],\n",
    "                \n",
    "                [[[1,2,3],[4,5,6]],\n",
    "                [[1,2,3],[4,5,6]], \n",
    "                [[1,2,3],[4,5,6]]]])\n",
    "print(f\"배열의 구조: {a.shape}\")\n",
    "print(f\"배열의 차원: {a.ndim}\")"
   ]
  },
  {
   "cell_type": "code",
   "execution_count": 18,
   "id": "a6564b21",
   "metadata": {},
   "outputs": [
    {
     "ename": "ValueError",
     "evalue": "setting an array element with a sequence. The requested array has an inhomogeneous shape after 1 dimensions. The detected shape was (2,) + inhomogeneous part.",
     "output_type": "error",
     "traceback": [
      "\u001b[31m---------------------------------------------------------------------------\u001b[39m",
      "\u001b[31mValueError\u001b[39m                                Traceback (most recent call last)",
      "\u001b[36mCell\u001b[39m\u001b[36m \u001b[39m\u001b[32mIn[18]\u001b[39m\u001b[32m, line 3\u001b[39m\n\u001b[32m      1\u001b[39m \u001b[38;5;66;03m# 만들 수 없는 배열\u001b[39;00m\n\u001b[32m      2\u001b[39m \u001b[38;5;66;03m# 내부 배열의 구조가 같아야 함\u001b[39;00m\n\u001b[32m----> \u001b[39m\u001b[32m3\u001b[39m a = \u001b[43mnp\u001b[49m\u001b[43m.\u001b[49m\u001b[43marray\u001b[49m\u001b[43m(\u001b[49m\u001b[43m[\u001b[49m\u001b[43m[\u001b[49m\u001b[32;43m1\u001b[39;49m\u001b[43m]\u001b[49m\u001b[43m,\u001b[49m\u001b[43m[\u001b[49m\u001b[32;43m2\u001b[39;49m\u001b[43m,\u001b[49m\u001b[32;43m3\u001b[39;49m\u001b[43m]\u001b[49m\u001b[43m]\u001b[49m\u001b[43m)\u001b[49m\n",
      "\u001b[31mValueError\u001b[39m: setting an array element with a sequence. The requested array has an inhomogeneous shape after 1 dimensions. The detected shape was (2,) + inhomogeneous part."
     ]
    }
   ],
   "source": [
    "# 만들 수 없는 배열\n",
    "# 내부 배열의 구조가 같아야 함\n",
    "a = np.array([[1],[2,3]])"
   ]
  },
  {
   "cell_type": "markdown",
   "id": "804e2b68",
   "metadata": {},
   "source": [
    "### 1-2. 배열 초기화 "
   ]
  },
  {
   "cell_type": "code",
   "execution_count": 25,
   "id": "8dae4303",
   "metadata": {},
   "outputs": [
    {
     "data": {
      "text/plain": [
       "array([[[0, 0, 0, 0],\n",
       "        [0, 0, 0, 0],\n",
       "        [0, 0, 0, 0]],\n",
       "\n",
       "       [[0, 0, 0, 0],\n",
       "        [0, 0, 0, 0],\n",
       "        [0, 0, 0, 0]]])"
      ]
     },
     "execution_count": 25,
     "metadata": {},
     "output_type": "execute_result"
    }
   ],
   "source": [
    "# 모든 요소가 0인 배열 생성\n",
    "np.zeros((3,4)) # 2차원\n",
    "np.zeros((2,3,4), dtype=np.int64) # 3차원"
   ]
  },
  {
   "cell_type": "code",
   "execution_count": 26,
   "id": "43c5f047",
   "metadata": {},
   "outputs": [
    {
     "data": {
      "text/plain": [
       "array([[1., 1., 1., 1., 1., 1.],\n",
       "       [1., 1., 1., 1., 1., 1.],\n",
       "       [1., 1., 1., 1., 1., 1.],\n",
       "       [1., 1., 1., 1., 1., 1.],\n",
       "       [1., 1., 1., 1., 1., 1.]])"
      ]
     },
     "execution_count": 26,
     "metadata": {},
     "output_type": "execute_result"
    }
   ],
   "source": [
    "# 모든 요소가 1인 배열 생성\n",
    "np.ones((5,6))"
   ]
  },
  {
   "cell_type": "code",
   "execution_count": 27,
   "id": "3989cbb7",
   "metadata": {},
   "outputs": [
    {
     "data": {
      "text/plain": [
       "array([[4.9e-324, 9.9e-324, 1.5e-323],\n",
       "       [2.0e-323, 2.5e-323, 3.0e-323]])"
      ]
     },
     "execution_count": 27,
     "metadata": {},
     "output_type": "execute_result"
    }
   ],
   "source": [
    "# (원소의 값이) 초기화 되지 않은 배열 생성\n",
    "np.empty((2,3))"
   ]
  },
  {
   "cell_type": "code",
   "execution_count": 28,
   "id": "b4585b25",
   "metadata": {},
   "outputs": [
    {
     "data": {
      "text/plain": [
       "array([[7, 7, 7],\n",
       "       [7, 7, 7],\n",
       "       [7, 7, 7]])"
      ]
     },
     "execution_count": 28,
     "metadata": {},
     "output_type": "execute_result"
    }
   ],
   "source": [
    "# 주어진 값으로 채운 배열\n",
    "np.full((3,3), 7)"
   ]
  },
  {
   "cell_type": "code",
   "execution_count": null,
   "id": "86d75096",
   "metadata": {},
   "outputs": [
    {
     "data": {
      "text/plain": [
       "array([[0., 1., 0., 0., 0.],\n",
       "       [0., 0., 1., 0., 0.],\n",
       "       [0., 0., 0., 1., 0.]])"
      ]
     },
     "execution_count": 33,
     "metadata": {},
     "output_type": "execute_result"
    }
   ],
   "source": [
    "# 단위 행렬\n",
    "np.eye(3,3) # 정사각형\n",
    "np.eye(3,5) # 직각사각형\n",
    "np.eye(3,5,1) # 3번째 인자를 입력 → 1이 오른쪽으로 이동 / 음수를 입력하면 반대로 이동"
   ]
  },
  {
   "cell_type": "code",
   "execution_count": null,
   "id": "41a62593",
   "metadata": {},
   "outputs": [],
   "source": [
    "### 1-3. 범위 기반 배열 생성"
   ]
  },
  {
   "cell_type": "code",
   "execution_count": 38,
   "id": "85f49b9f",
   "metadata": {},
   "outputs": [
    {
     "data": {
      "text/plain": [
       "array([0, 2, 4, 6, 8])"
      ]
     },
     "execution_count": 38,
     "metadata": {},
     "output_type": "execute_result"
    }
   ],
   "source": [
    "# arange : range()와 유사한 기능을 제공\n",
    "# 시작 이상 끝 미만의 정수 배열을 지정한 간격으로 생성\n",
    "np.arange(0, 10)\n",
    "np.arange(0, 10, 2) # 간격 지정"
   ]
  },
  {
   "cell_type": "code",
   "execution_count": 41,
   "id": "cb8d8abf",
   "metadata": {},
   "outputs": [
    {
     "data": {
      "text/plain": [
       "array([0.1, 0.2, 0.3, 0.4, 0.5, 0.6, 0.7, 0.8, 0.9, 1. ])"
      ]
     },
     "execution_count": 41,
     "metadata": {},
     "output_type": "execute_result"
    }
   ],
   "source": [
    "# linspace : 시작 ~ 끝까지 균일 간격으로 지정한 개수만큼 숫자를 생성\n",
    "# 끝을 포함\n",
    "np.linspace(10, 100, 10)\n",
    "np.linspace(0.1, 1, 10)"
   ]
  },
  {
   "cell_type": "code",
   "execution_count": 44,
   "id": "83b1d020",
   "metadata": {},
   "outputs": [
    {
     "data": {
      "text/plain": [
       "array([[  5.,  10.,  15.,  20.,  25.],\n",
       "       [ 30.,  35.,  40.,  45.,  50.],\n",
       "       [ 55.,  60.,  65.,  70.,  75.],\n",
       "       [ 80.,  85.,  90.,  95., 100.]])"
      ]
     },
     "execution_count": 44,
     "metadata": {},
     "output_type": "execute_result"
    }
   ],
   "source": [
    "# reshape : 배열의 구조를 재배치\n",
    "# np.linspace(1, 10, 10).reshape((2,3)) # 원소의 개수가 같아야 한다.\n",
    "np.linspace(5, 100, 20).reshape((4,5))"
   ]
  },
  {
   "cell_type": "markdown",
   "id": "6f39cbf2",
   "metadata": {},
   "source": [
    "### 1-4. 랜덤 배열 생성"
   ]
  },
  {
   "cell_type": "code",
   "execution_count": 45,
   "id": "39848d2f",
   "metadata": {},
   "outputs": [
    {
     "data": {
      "text/plain": [
       "array([[0.36431563, 0.18327334, 0.00625487],\n",
       "       [0.29111952, 0.6674093 , 0.23828754]])"
      ]
     },
     "execution_count": 45,
     "metadata": {},
     "output_type": "execute_result"
    }
   ],
   "source": [
    "# random.rand(m, n) 0~1 사이의 난수로 초기화\n",
    "np.random.rand(2,3)"
   ]
  },
  {
   "cell_type": "code",
   "execution_count": null,
   "id": "63ad85b0",
   "metadata": {},
   "outputs": [
    {
     "data": {
      "text/plain": [
       "array([[-1.56608544, -0.26335493, -1.13575782, -0.97180762,  0.38931627],\n",
       "       [ 1.08345269,  0.49685678, -0.35927774, -0.16021959, -0.99602417],\n",
       "       [ 0.46997017,  0.10828818, -0.70024551, -0.30105073, -1.33688689],\n",
       "       [ 0.09207837,  0.08643128,  0.19249964,  0.13613595, -1.01399956]])"
      ]
     },
     "execution_count": 46,
     "metadata": {},
     "output_type": "execute_result"
    }
   ],
   "source": [
    "# random.randn(m, n) : 표준정규분포를 따르는 난수로 초기화\n",
    "# 표준정규분포 : 평균 0, 분산 1인 정규분포\n",
    "np.random.randn(4,5)\n",
    "\n",
    "# random.normal(평균, 분산, 사이즈)\n",
    "# 정규분포\n",
    "np.random.normal(10,20, (2,4))"
   ]
  },
  {
   "cell_type": "code",
   "execution_count": 48,
   "id": "67d848f2",
   "metadata": {},
   "outputs": [
    {
     "name": "stdout",
     "output_type": "stream",
     "text": [
      "[[27 59 13]\n",
      " [97 88 72]\n",
      " [ 4 42 24]]\n"
     ]
    }
   ],
   "source": [
    "# random.randint(low, high, (size))\n",
    "print(np.random.randint(0, 101, (3,3)))"
   ]
  },
  {
   "cell_type": "code",
   "execution_count": null,
   "id": "d415796e",
   "metadata": {},
   "outputs": [
    {
     "name": "stdout",
     "output_type": "stream",
     "text": [
      "[[0.37454012 0.95071431 0.73199394]\n",
      " [0.59865848 0.15601864 0.15599452]]\n",
      "[[ 1.57921282  0.76743473]\n",
      " [-0.46947439  0.54256004]]\n",
      "[[63 59 20]\n",
      " [32 75 57]\n",
      " [21 88 48]]\n"
     ]
    }
   ],
   "source": [
    "# random.seed() : 난수 생성시 시작값 제공\n",
    "np.random.seed(42) # seed를 고정하면 고정된 값만 나온다.\n",
    "print(np.random.rand(2,3))\n",
    "print(np.random.randn(2,2))\n",
    "print(np.random.randint(0, 101, (3,3)))"
   ]
  },
  {
   "cell_type": "code",
   "execution_count": 66,
   "id": "377f5ed4",
   "metadata": {},
   "outputs": [
    {
     "name": "stdout",
     "output_type": "stream",
     "text": [
      "[[0.77395605 0.43887844]\n",
      " [0.85859792 0.69736803]\n",
      " [0.09417735 0.97562235]]\n",
      "[[-1.10333845 -0.72502464 -0.78180526  0.26697586 -0.24858073]\n",
      " [ 0.12648305  0.84304257  0.85793655  0.47518364 -0.4507686 ]\n",
      " [-0.75493228 -0.81481411 -0.34385486 -0.05138009 -0.97227368]\n",
      " [-1.13448753  0.30570522 -1.85168503 -0.17705351  0.42582567]]\n",
      "[[48 61]\n",
      " [72 14]]\n",
      "[[76.1139702  78.60643053 12.81136327 45.03859379]\n",
      " [37.07980242 92.67649888 64.38651201 82.27616133]\n",
      " [44.34141988 22.72387218 55.4584787   6.38172561]\n",
      " [82.7631172  63.16643991 75.80877401 35.45259681]]\n"
     ]
    }
   ],
   "source": [
    "# RNG(Random Number Generator)\n",
    "# 최근 파이썬 사용에서 권장되는 방식\n",
    "\n",
    "from numpy.random import default_rng\n",
    "rng = default_rng(seed=42)\n",
    "rng2 = default_rng(seed=10)\n",
    "rng3 = default_rng()\n",
    "\n",
    "print(rng.random((3,2))) # 0~1 사이의 난수\n",
    "print(rng2.normal(0, 1, (4,5))) # 정규분포\n",
    "print(rng3.integers(0, 100, (2,2))) # 정수 난수\n",
    "print(rng.uniform(0, 100, (4,4))) # 균등 분포"
   ]
  },
  {
   "cell_type": "code",
   "execution_count": null,
   "id": "ecf1a90b",
   "metadata": {},
   "outputs": [
    {
     "name": "stdout",
     "output_type": "stream",
     "text": [
      "문제1\n",
      "[[0. 0. 0. 0.]\n",
      " [0. 0. 0. 0.]\n",
      " [0. 0. 0. 0.]]\n",
      "[[5 5 5 5]\n",
      " [5 5 5 5]\n",
      " [5 5 5 5]]\n",
      "\n",
      "문제2 [ 0  2  4  6  8 10 12 14 16 18 20]\n",
      "\n",
      "문제3 [[0.84028015 0.1830669  0.70843822]\n",
      " [0.03717469 0.68326954 0.01866372]]\n",
      "\n",
      "문제4 [84.22793454 80.63503424 86.91560321 74.50068588 55.06959509 93.67618045]\n"
     ]
    }
   ],
   "source": [
    "# 실습1. 배열 초기화 및 생성(1)\n",
    "# 문제1. 0으로채워진크기(3,4)배열을생성한후,모든값을5로채우는새로운배열을만드세요.\n",
    "a1 = np.zeros((3,4))\n",
    "a1_2 = np.full((3,4), 5)\n",
    "print(f\"문제1\", a1, a1_2, sep=\"\\n\")\n",
    "\n",
    "# 문제2. 0부터 20까지 2씩 증가하는 1차원 배열을 생성하세요.\n",
    "a2 = np.arange(0, 21, 2)\n",
    "print(f\"\\n문제2\", a2)\n",
    "\n",
    "# 문제3. 0~1 사이의 실수 난수를 가지는 (2, 3) 크기의 배열을 생성하세요.\n",
    "a3 = np.random.rand(2,3)\n",
    "print(f\"\\n문제3\",a3)\n",
    "\n",
    "# 문제4. 평균이 100, 표준편차가 20인 정규분포 난수 6개를 생성하세요.\n",
    "a4 = np.random.normal(100, 20, 6)\n",
    "print(f\"\\n문제4\", a4)\n"
   ]
  },
  {
   "cell_type": "code",
   "execution_count": null,
   "id": "fc4dd10f",
   "metadata": {},
   "outputs": [
    {
     "name": "stdout",
     "output_type": "stream",
     "text": [
      "\n",
      "문제5 [[ 1  2  3  4  5]\n",
      " [ 6  7  8  9 10]\n",
      " [11 12 13 14 15]\n",
      " [16 17 18 19 20]]\n",
      "\n",
      "문제6 [[0.         0.09090909 0.18181818 0.27272727]\n",
      " [0.36363636 0.45454545 0.54545455 0.63636364]\n",
      " [0.72727273 0.81818182 0.90909091 1.        ]]\n",
      "\n",
      "문제7 [[43. 71. 52. 91. 34. 22. 86. 52. 31.  3.]\n",
      " [ 0. 95. 10. 37. 84.  0.  9. 62. 74.  7.]\n",
      " [10. 72.  7. 29. 76. 28. 75. 54. 50. 72.]\n",
      " [14. 94. 33. 19. 51. 65. 92. 34. 31. 41.]\n",
      " [59. 90.  2. 33. 91. 92. 15. 36.  0. 54.]\n",
      " [33. 18. 22. 46.  3. 60. 68. 72. 83. 19.]\n",
      " [11. 17.  7.  7.  3. 69. 91. 22. 54. 96.]\n",
      " [53. 65. 80. 90. 96. 14. 98. 84. 57. 83.]\n",
      " [ 6. 41. 54. 35. 39. 17. 40. 54.  8. 31.]\n",
      " [ 2. 58. 33. 53. 66. 78. 72. 87. 22. 62.]]\n",
      "\n",
      "문제8 [[[3 3 0 1]\n",
      "  [4 1 8 6]\n",
      "  [3 4 1 2]]\n",
      "\n",
      " [[3 4 8 5]\n",
      "  [1 5 0 8]\n",
      "  [4 2 3 9]]]\n"
     ]
    }
   ],
   "source": [
    "# 문제5. 1부터 20까지의 정수를 포함하는 1차원 배열을 만들고, 이 배열을 (4, 5) 크기의 2차원 배열로 변환하세요.\n",
    "a5 = np.arange(1, 21).reshape(4, 5)\n",
    "print(f\"\\n문제5\", a5)\n",
    "\n",
    "# 문제6. 0부터1까지균등간격으로나눈12개의값을가지는배열을생성하고,이를(3,4)크기로변 환하세요.\n",
    "a6 = np.linspace(0, 1, 12).reshape(3, 4)\n",
    "print(f\"\\n문제6\", a6)\n",
    "\n",
    "# 문제7. 0~99 사이의 난수로 이루어진 (10, 10) 배열을 생성한 뒤, np.eye()로 만든 단위 행렬을 더 하여 대각선 요소가 1씩 증가된 배열을 만드세요.\n",
    "a7 = np.random.randint(0, 100, (10, 10))\n",
    "a7_eye = np.eye(10)\n",
    "print(f\"\\n문제7\", a7 + a7_eye) # 행렬의 덧셈\n",
    "\n",
    "# 문제8. 0~9 사이의 난수로 이루어진 (2, 3, 4) 3차원 배열을 생성하세요.\n",
    "a8 = np.random.randint(0, 10, (2, 3, 4))\n",
    "print(f\"\\n문제8\", a8)\n"
   ]
  },
  {
   "cell_type": "markdown",
   "id": "9d6f6f66",
   "metadata": {},
   "source": [
    "### 1-5. 인덱싱과 슬라이싱\n",
    "- 다차원 배열을 다루는 편의 기능 제공\n",
    "- python의 시퀀스보다 빠름"
   ]
  },
  {
   "cell_type": "code",
   "execution_count": 14,
   "id": "8dd38762",
   "metadata": {},
   "outputs": [
    {
     "name": "stdout",
     "output_type": "stream",
     "text": [
      "30\n",
      "50\n"
     ]
    }
   ],
   "source": [
    "# 인덱싱\n",
    "a = np.array([10, 20, 30, 40, 50])\n",
    "print(a[2])\n",
    "print(a[-1])"
   ]
  },
  {
   "cell_type": "code",
   "execution_count": null,
   "id": "3f7e8259",
   "metadata": {},
   "outputs": [
    {
     "name": "stdout",
     "output_type": "stream",
     "text": [
      "파이썬 인덱싱: 5\n",
      "(2, 3)\n",
      "numpy 인덱싱: 6\n"
     ]
    }
   ],
   "source": [
    "# 다차원 인덱싱\n",
    "# 파이썬 리스트\n",
    "matrix = [[1,2,4], [4,5,6]] # 2*3차원\n",
    "print(\"파이썬 인덱싱:\", matrix[1][1])\n",
    "\n",
    "# NumPy 배열\n",
    "a2 = np.array([[1,2,4], [4,5,6]])\n",
    "print(a2.shape)\n",
    "print(\"numpy 인덱싱:\", a2[1,2]) # 2차원 먼저 읽어줌"
   ]
  },
  {
   "cell_type": "code",
   "execution_count": 21,
   "id": "8db44ded",
   "metadata": {},
   "outputs": [
    {
     "name": "stdout",
     "output_type": "stream",
     "text": [
      "[[[ 0  1  2  3]\n",
      "  [ 4  5  6  7]\n",
      "  [ 8  9 10 11]]\n",
      "\n",
      " [[12 13 14 15]\n",
      "  [16 17 18 19]\n",
      "  [20 21 22 23]]]\n",
      "(2, 3, 4)\n",
      "17 17\n",
      "11 11\n",
      "23 23\n"
     ]
    }
   ],
   "source": [
    "# 3차원 배열 인덱싱\n",
    "a3 = np.arange(24).reshape(2,3,4)\n",
    "print(a3)\n",
    "print(a3.shape)\n",
    "print(\"17\", a3[1,1,1]) # 17읽기\n",
    "print(\"11\", a3[0,2,3]) # 11읽기\n",
    "print(\"23\", a3[1,2,3]) # 23읽기"
   ]
  },
  {
   "cell_type": "code",
   "execution_count": null,
   "id": "b85e6075",
   "metadata": {},
   "outputs": [
    {
     "name": "stdout",
     "output_type": "stream",
     "text": [
      "[20 30]\n",
      "[30 40 50]\n",
      "[10 20]\n",
      "[10 20 30 40 50]\n",
      "[10 30 50]\n",
      "[50 40 30 20 10]\n"
     ]
    }
   ],
   "source": [
    "# 슬라이실\n",
    "# arr[행_슬라이스, 열_슬라이스]\n",
    "# arr[..., 4차원슬라이스, 3차원슬라이스, 2차원슬라이스, 1차원슬라이스]\n",
    "a1 = np.array([10,20,30,40,50])\n",
    "\n",
    "print(a1[1:3])\n",
    "print(a1[2:])\n",
    "print(a1[:2])\n",
    "print(a1[:])\n",
    "print(a1[::2])\n",
    "print(a1[::-1])\n"
   ]
  },
  {
   "cell_type": "code",
   "execution_count": null,
   "id": "c3d3f4a9",
   "metadata": {},
   "outputs": [
    {
     "name": "stdout",
     "output_type": "stream",
     "text": [
      "py원본: [10, 20, 30, 40, 50]\n",
      "py슬라이싱: [20, 100, 40]\n",
      "\n",
      "numpy원본: [ 10  20 100  40  50]\n",
      "numpy슬라이싱: [ 20 100  40]\n"
     ]
    }
   ],
   "source": [
    "# 파이썬 리스트와의 차이\n",
    "# 파이썬 라스트\n",
    "# 원본은 변경되지 않음\n",
    "py_list = [10,20,30,40,50]\n",
    "sliced = py_list[1:4]\n",
    "sliced[1] = 100\n",
    "print(\"py원본:\", py_list)\n",
    "print(\"py슬라이싱:\", sliced)\n",
    "print()\n",
    "\n",
    "# numpy 배열\n",
    "# 원본도 같이 변경됨\n",
    "a1 = np.array([10,20,30,40,50])\n",
    "a1_sliced = a1[1:4]\n",
    "a1_sliced[1] = 100\n",
    "print(\"numpy원본:\", a1)\n",
    "print(\"numpy슬라이싱:\", a1_sliced)"
   ]
  },
  {
   "cell_type": "code",
   "execution_count": 65,
   "id": "743e53de",
   "metadata": {},
   "outputs": [
    {
     "name": "stdout",
     "output_type": "stream",
     "text": [
      "원본 [[ 1  2  3  4  5]\n",
      " [ 6  7  8  9 10]\n",
      " [11 12 13 14 15]\n",
      " [16 17 18 19 20]]\n",
      "\n",
      "1. [1 2 3 4 5]\n",
      "2. [1 2 3 4 5]\n",
      "3. [ 6  7  8  9 10]\n",
      "4. [[ 6  7  8  9 10]\n",
      " [11 12 13 14 15]]\n"
     ]
    }
   ],
   "source": [
    "# 2차원 배열 슬라이싱\n",
    "a2 = np.arange(1, 21).reshape(4, 5)\n",
    "print(\"원본\", a2)\n",
    "print()\n",
    "\n",
    "# 행 슬라이싱(2차원 슬라이싱)\n",
    "print(\"1.\",a2[0, :]) # 2차원 기준 0번째 원소, 1차원자리 다 불러와!\n",
    "print(\"2.\",a2[0]) # 위에랑 같음\n",
    "print(\"3.\",a2[1])\n",
    "print(\"4.\",a2[1:3]) # 인덱싱 2,3 불러옴\n"
   ]
  },
  {
   "cell_type": "code",
   "execution_count": null,
   "id": "ef6270a5",
   "metadata": {},
   "outputs": [
    {
     "name": "stdout",
     "output_type": "stream",
     "text": [
      "[ 3  8 13 18]\n",
      "[ 5 10 15 20]\n",
      "[[ 2  3]\n",
      " [ 7  8]\n",
      " [12 13]\n",
      " [17 18]]\n"
     ]
    }
   ],
   "source": [
    "# 열 슬라이싱(1차원 슬라이싱)\n",
    "# 하나만 자르면 1차원으로 나눠지고, 여러개 자르면 차원을 유지함.\n",
    "print(a2[:, 2]) # 모든 행에 2번째 열을 각각 불러옴\n",
    "print(a2[:, -1]) \n",
    "print(a2[:, 1:3]) # 모든 행에 1,2번재 열을 각각 불러옴"
   ]
  },
  {
   "cell_type": "code",
   "execution_count": 44,
   "id": "3043e736",
   "metadata": {},
   "outputs": [
    {
     "name": "stdout",
     "output_type": "stream",
     "text": [
      "[[ 1  2  3  4  5]\n",
      " [ 6  7  8  9 10]\n",
      " [11 12 13 14 15]\n",
      " [16 17 18 19 20]]\n",
      "[[ 8  9]\n",
      " [13 14]]\n",
      "[[14 15]\n",
      " [19 20]]\n",
      "[[ 1  3  5]\n",
      " [11 13 15]]\n"
     ]
    }
   ],
   "source": [
    "# 행과 열 슬라이싱\n",
    "print(a2)\n",
    "print(a2[1:3, 2:4])\n",
    "print(a2[2:, 3:])\n",
    "print(a2[::2, ::2])\n"
   ]
  },
  {
   "cell_type": "code",
   "execution_count": 46,
   "id": "4af00862",
   "metadata": {},
   "outputs": [
    {
     "name": "stdout",
     "output_type": "stream",
     "text": [
      "[[[ 0  1  2  3]\n",
      "  [ 4  5  6  7]\n",
      "  [ 8  9 10 11]]\n",
      "\n",
      " [[12 13 14 15]\n",
      "  [16 17 18 19]\n",
      "  [20 21 22 23]]\n",
      "\n",
      " [[24 25 26 27]\n",
      "  [28 29 30 31]\n",
      "  [32 33 34 35]]]\n",
      "[17 18]\n"
     ]
    }
   ],
   "source": [
    "# 3차원 슬라이싱\n",
    "a3 = np.arange(36).reshape(3, 3, 4)\n",
    "print(a3)\n",
    "print(a3[1, 1, 1:3])"
   ]
  },
  {
   "cell_type": "code",
   "execution_count": 50,
   "id": "05093d43",
   "metadata": {},
   "outputs": [
    {
     "name": "stdout",
     "output_type": "stream",
     "text": [
      "원본 [ 1 10  3]\n",
      "얕은 복사본 [ 1 10  3]\n",
      "\n",
      "원본 [1 2 3]\n",
      "깊은 복사본 [ 1 10  3]\n"
     ]
    }
   ],
   "source": [
    "# 얕은 복사 : 복사본이 원본과 메모리를 공유 → 변경사항이 서로에세 영향을 줌\n",
    "a1 = np.array([1,2,3])\n",
    "a1_copied = a1.view()\n",
    "a1_copied[1] = 10\n",
    "print(\"원본\", a1)\n",
    "print(\"얕은 복사본\", a1_copied)\n",
    "print()\n",
    "\n",
    "# 깊은 복사 : 복사본이 원본과 독립적으로 복사됨 → 서로 영향을 주지X\n",
    "a2 = np.array([1,2,3])\n",
    "a2_copied = a2.copy()\n",
    "a2_copied[1] = 10\n",
    "print(\"원본\", a2)\n",
    "print(\"깊은 복사본\", a2_copied)"
   ]
  },
  {
   "cell_type": "code",
   "execution_count": null,
   "id": "5cdc60e2",
   "metadata": {},
   "outputs": [
    {
     "name": "stdout",
     "output_type": "stream",
     "text": [
      "[[ 1  2  3  4  5]\n",
      " [ 6  7  8  9 10]\n",
      " [11 12 13 14 15]\n",
      " [16 17 18 19 20]]\n",
      "[ 8 20]\n"
     ]
    }
   ],
   "source": [
    "# Fancy indexing\n",
    "# 정수 배열을 사용하여 여러 인덱스로 여러 요소를 한번에 선택\n",
    "af = np.arange(1,21)\n",
    "# print(af)\n",
    "# print(af[[4,7,11]]) # 여러요소를 한번에 선택할 때 정수배열을 선택하고,, 그래서 괄호가 2개\n",
    "\n",
    "af2 = np.arange(1,21).reshape(4,5)\n",
    "print(af2)\n",
    "print(af2[[1,3], [2,4]]) # (1,2) (3,4)가 선택됨"
   ]
  },
  {
   "cell_type": "code",
   "execution_count": 57,
   "id": "98a746f1",
   "metadata": {},
   "outputs": [
    {
     "name": "stdout",
     "output_type": "stream",
     "text": [
      "[ 10.  20.  30.  40.  50.  60.  70.  80.  90. 100.]\n",
      "[ 50.  60.  70.  80.  90. 100.]\n",
      "[ 0  1  2  3  4  5  6  7  8  9 10 11 12 13 14 15 16 17 18 19 20]\n",
      "[ True False  True False  True False  True False  True False  True False\n",
      "  True False  True False  True False  True False  True]\n",
      "[ 0  2  4  6  8 10 12 14 16 18 20]\n"
     ]
    }
   ],
   "source": [
    "# Boolean indexing\n",
    "ab = np.linspace(10,100,10)\n",
    "print(ab)\n",
    "print(ab[ab > 40])\n",
    "\n",
    "# Boolean masking\n",
    "ab2 = np.arange(0,21)\n",
    "print(ab2)\n",
    "mask = ab2 % 2 == 0\n",
    "print(mask)\n",
    "print(ab2[mask]) # True면 반환하고, False면 반환 안됨"
   ]
  },
  {
   "cell_type": "code",
   "execution_count": 90,
   "id": "2d95f52f",
   "metadata": {},
   "outputs": [
    {
     "name": "stdout",
     "output_type": "stream",
     "text": [
      "1.원본 배열:\n",
      " [10 12 14 16 18 20 22 24 26 28]\n",
      "\n",
      " [12 16 20]\n",
      "\n",
      "2.원본 배열:\n",
      " [[1 2 3]\n",
      " [4 5 6]\n",
      " [7 8 9]]\n",
      "\n",
      " [1 5 9]\n",
      "\n",
      "3.원본 배열:\n",
      " [[ 1  2  3  4]\n",
      " [ 5  6  7  8]\n",
      " [ 9 10 11 12]]\n",
      "\n",
      " [[ 1  2  3 -1]\n",
      " [ 5  6  7 -1]\n",
      " [ 9 10 11 -1]]\n",
      "\n",
      "4.원본 배열:\n",
      " [[ 1  2  3  4]\n",
      " [ 5  6  7  8]\n",
      " [ 9 10 11 12]\n",
      " [13 14 15 16]]\n",
      "행 역순:\n",
      " [[13 14 15 16]\n",
      " [ 9 10 11 12]\n",
      " [ 5  6  7  8]\n",
      " [ 1  2  3  4]]\n",
      "열 역순:\n",
      " [[ 4  3  2  1]\n",
      " [ 8  7  6  5]\n",
      " [12 11 10  9]\n",
      " [16 15 14 13]]\n",
      "\n"
     ]
    }
   ],
   "source": [
    "# 실습2. 인덱싱과 슬라이싱(2)\n",
    "# 문제1. 다음 배열에서 2, 4, 6번째 요소를 Fancy Indexing으로 선택하세요. \n",
    "arr=np.arange(10,30,2)\n",
    "print(\"1.원본 배열:\\n\", arr)\n",
    "print(\"\\n\",arr[[1, 3, 5]])\n",
    "print()\n",
    "\n",
    "# 문제2. 3x3 배열에서 왼쪽 위 → 오른쪽 아래 대각선의 요소만 인덱싱으로 추출하세요.\n",
    "arr=np.arange(1,10).reshape(3,3)\n",
    "print(\"2.원본 배열:\\n\", arr)\n",
    "print(\"\\n\",arr[[0, 1, 2], [0, 1, 2]]) # (0,0) (1,1) (2,2) 출력\n",
    "print()\n",
    "\n",
    "# 문제3. 3x4 배열에서 마지막 열만 선택해 모두 -1로 변경하세요.\n",
    "arr=np.arange(1,13).reshape(3,4)\n",
    "print(\"3.원본 배열:\\n\", arr)\n",
    "arr[:,-1] = -1 \n",
    "print(\"\\n\", arr)\n",
    "print()\n",
    "\n",
    "# 문제4. 4x4 배열에서 행을 역순, 열을 역순으로 각각 슬라이싱해 출력하세요.\n",
    "arr=np.arange(1,17).reshape(4,4)\n",
    "print(\"4.원본 배열:\\n\", arr)\n",
    "print(\"행 역순:\\n\", arr[::-1, :])\n",
    "print(\"열 역순:\\n\", arr[:, ::-1])\n",
    "print()\n",
    "\n"
   ]
  },
  {
   "cell_type": "code",
   "execution_count": 99,
   "id": "ffb4c195",
   "metadata": {},
   "outputs": [
    {
     "name": "stdout",
     "output_type": "stream",
     "text": [
      "5.원본 배열:\n",
      " [[ 1  2  3  4  5]\n",
      " [ 6  7  8  9 10]\n",
      " [11 12 13 14 15]\n",
      " [16 17 18 19 20]]\n",
      "\n",
      " [[ 1  2  3  4  5]\n",
      " [ 6  7  8  9 10]\n",
      " [11 12 13 14 15]\n",
      " [16 17 18 19 20]]\n",
      "\n",
      "6.원본 배열:\n",
      " [[ 4  9 12  7]\n",
      " [10 15 18  3]\n",
      " [ 2 14  6 20]]\n",
      "\n",
      "짝수이면서 10이상인 값: [12 10 18 14 20]\n",
      "\n",
      "7.원본 배열:\n",
      " [[ 1  2  3  4  5]\n",
      " [ 6  7  8  9 10]\n",
      " [11 12 13 14 15]\n",
      " [16 17 18 19 20]\n",
      " [21 22 23 24 25]]\n",
      "\n",
      " [[ 6  7  8  9 10]\n",
      " [16 17 18 19 20]]\n",
      "\n"
     ]
    }
   ],
   "source": [
    "\n",
    "# 문제5. 4x5 배열에서 가운데 2x3 부분을 슬라이싱한 뒤 copy()를 이용해 독립 배열을 만드세요.\n",
    "arr = np.arange(1, 21).reshape(4, 5)\n",
    "print(\"5.원본 배열:\\n\", arr)\n",
    "arr_copy = arr[1:3, 1:4].copy()\n",
    "print(\"\\n\",arr)\n",
    "print()\n",
    "\n",
    "# 문제6. 3x4배열에서 짝수이면서 10이상인 값만 선택하세요.\n",
    "arr = np.array([[ 4, 9, 12, 7], [10, 15, 18, 3], [ 2, 14, 6, 20]])\n",
    "print(\"6.원본 배열:\\n\", arr)\n",
    "mask = (arr % 2 == 0) & (arr >= 10)\n",
    "selected = arr[mask]\n",
    "print(\"\\n짝수이면서 10이상인 값:\", selected)\n",
    "print()\n",
    "\n",
    "\n",
    "# 문제7. 5x5 배열에서 2, 4번째 행을 선택하고, 선택된 행에서 열 순서를 [4, 0, 2]로 재배치하세요.\n",
    "arr = np.arange(1, 26).reshape(5, 5)\n",
    "print(\"7.원본 배열:\\n\", arr)\n",
    "result = arr[[1,3]]\n",
    "print(\"\\n\",result)\n",
    "\n",
    "# 방법1.\n",
    "# answer = []\n",
    "# for i in result:\n",
    "    # answer.append([i[4], i[0], i[2]])\n",
    "# print(np.array(answer))\n",
    "\n",
    "# 방법2.\n",
    "result[:, [4,0,2]]\n",
    "print()"
   ]
  },
  {
   "cell_type": "code",
   "execution_count": 97,
   "id": "acecc403",
   "metadata": {},
   "outputs": [
    {
     "name": "stdout",
     "output_type": "stream",
     "text": [
      "8.원본 배열:\n",
      " [[10 20 30]\n",
      " [55 65 75]\n",
      " [40 45 50]\n",
      " [70 80 90]\n",
      " [15 25 35]]\n",
      "\n",
      " [[55 65 75]\n",
      " [70 80 90]]\n",
      "\n",
      "9.원본 배열:\n",
      " [[ 1  2  3  4]\n",
      " [ 5  6  7  8]\n",
      " [ 9 10 11 12]\n",
      " [13 14 15 16]]\n",
      "\n",
      " [ 2  8  9 15]\n",
      "\n",
      "10.원본 배열:\n",
      " [[[ 0  1  2  3]\n",
      "  [ 4  5  6  7]\n",
      "  [ 8  9 10 11]]\n",
      "\n",
      " [[12 13 14 15]\n",
      "  [16 17 18 19]\n",
      "  [20 21 22 23]]]\n",
      "\n",
      "두 번째 열만 추출한 결과:\n",
      " [[ 1  5  9]\n",
      " [13 17 21]]\n"
     ]
    }
   ],
   "source": [
    "# 문제8. 5x3 배열에서 각 행의 첫 번째 값이 50 이상인 행만 Boolean Indexing으로 선택하세요.\n",
    "arr = np.array([[10, 20, 30], [55, 65, 75], [40, 45, 50], [70, 80, 90], [15, 25, 35]]) \n",
    "print(\"8.원본 배열:\\n\", arr)\n",
    "mask = arr[:,0] >= 50\n",
    "print(\"\\n\",arr[mask])\n",
    "print()\n",
    "\n",
    "# 문제9. 4x4 배열에서 (0,1), (1,3), (2,0), (3,2) 위치의 요소를 한 번에 선택하세요.\n",
    "arr=np.arange(1,17).reshape(4,4)\n",
    "print(\"9.원본 배열:\\n\", arr)\n",
    "selected = arr[[0, 1, 2, 3], [1, 3, 0, 2]]\n",
    "print(\"\\n\",selected)\n",
    "print()\n",
    "\n",
    "# 문제10. 3차원배열(2,3,4)에서 모든 블록에서 두 번째 열만 추출해 새로운 2차원 배열(2,3)을 만드세요.\n",
    "arr3d=np.arange(24).reshape(2,3,4)\n",
    "print(\"10.원본 배열:\\n\", arr3d)\n",
    "result = arr3d[:, :, 1]\n",
    "print(\"\\n두 번째 열만 추출한 결과:\\n\", result)\n",
    "\n"
   ]
  },
  {
   "cell_type": "code",
   "execution_count": 105,
   "id": "cd3e9b94",
   "metadata": {},
   "outputs": [
    {
     "name": "stdout",
     "output_type": "stream",
     "text": [
      "원본 배열:\n",
      " [[ 0  1  2  3  4]\n",
      " [ 5  6  7  8  9]\n",
      " [10 11 12 13 14]\n",
      " [15 16 17 18 19]\n",
      " [20 21 22 23 24]]\n",
      "\n",
      "가운데 행(3번째 행): [10 11 12 13 14]\n",
      "가운데 열(3번째 열): [ 2  7 12 17 22]\n"
     ]
    }
   ],
   "source": [
    "# 실습3. NumPy 종합 연습(1)\n",
    "# 문제1. 0부터24까지정수를가진배열을만들고,(5,5)배열로변환한뒤가운데행(3번째행)과가운데 열(3번째 열)을 각각 1차원 배열로 출력하세요.\n",
    "a1 = np.arange(25).reshape(5, 5)\n",
    "print(\"원본 배열:\\n\", a1)\n",
    "\n",
    "middle_row = a1[2, :]\n",
    "middle_col = a1[:, 2]\n",
    "\n",
    "print(\"\\n가운데 행(3번째 행):\", middle_row)\n",
    "print(\"가운데 열(3번째 열):\", middle_col)\n"
   ]
  },
  {
   "cell_type": "code",
   "execution_count": 106,
   "id": "132d67e9",
   "metadata": {},
   "outputs": [
    {
     "name": "stdout",
     "output_type": "stream",
     "text": [
      "원본 배열:\n",
      " [[ 1 76 51 86 20 64 96 69 39  3]\n",
      " [10 35 45 52 74  1 76 59 72 40]\n",
      " [70 40 49 22 81 37 39 12 73 32]\n",
      " [44 83 42 31 25 29 73 60 25 97]\n",
      " [46 78 89 57 14 47 60 49 77 77]\n",
      " [45 98  1 25 49 12 50 57 18 13]\n",
      " [74 36  8 51 31 92 66 97 91 70]\n",
      " [23  0 91 94 17 64 39  1 22 98]\n",
      " [79 99 28 39 90 70 38 62 59  0]\n",
      " [70 41 76 94 45 41 14 44  8 60]]\n",
      "\n",
      "짝수 인덱스의 행만:\n",
      " [[ 1 76 51 86 20 64 96 69 39  3]\n",
      " [70 40 49 22 81 37 39 12 73 32]\n",
      " [46 78 89 57 14 47 60 49 77 77]\n",
      " [74 36  8 51 31 92 66 97 91 70]\n",
      " [79 99 28 39 90 70 38 62 59  0]]\n"
     ]
    }
   ],
   "source": [
    "# 문제2. 0~99 난수로 이루어진 (10, 10) 배열을 생성하고, 짝수 인덱스의 행만 선택하여 출력하세요.\n",
    "\n",
    "# 0~99 난수로 (10, 10) 배열 생성\n",
    "a2 = np.random.randint(0, 100, (10, 10))\n",
    "print(\"원본 배열:\\n\", a2)\n",
    "\n",
    "# 짝수 인덱스의 행만 선택 (0, 2, 4, 6, 8)\n",
    "even_rows = a2[::2, :]\n",
    "print(\"\\n짝수 인덱스의 행만:\\n\", even_rows)"
   ]
  },
  {
   "cell_type": "code",
   "execution_count": 107,
   "id": "f5f6a757",
   "metadata": {},
   "outputs": [
    {
     "name": "stdout",
     "output_type": "stream",
     "text": [
      "원본 배열:\n",
      " [[ 0  1  2  3  4  5  6  7  8  9]\n",
      " [10 11 12 13 14 15 16 17 18 19]\n",
      " [20 21 22 23 24 25 26 27 28 29]\n",
      " [30 31 32 33 34 35 36 37 38 39]\n",
      " [40 41 42 43 44 45 46 47 48 49]]\n",
      "\n",
      "2행 3열부터 4행 7열까지의 부분 배열:\n",
      " [[23 24 25 26 27]\n",
      " [33 34 35 36 37]\n",
      " [43 44 45 46 47]]\n"
     ]
    }
   ],
   "source": [
    "# 문제3. 0부터49까지정수를가진배열을(5,10)배열로변환한후,2행3열부터4행7열까지의부 분 배열을 추출하세요.\n",
    "\n",
    "a3 = np.arange(50).reshape(5, 10)\n",
    "print(\"원본 배열:\\n\", a3)\n",
    "\n",
    "# 부분 배열 슬라이싱\n",
    "sub_arr = a3[2:5, 3:8]\n",
    "print(\"\\n2행 3열부터 4행 7열까지의 부분 배열:\\n\", sub_arr)\n"
   ]
  },
  {
   "cell_type": "code",
   "execution_count": 113,
   "id": "f80b662f",
   "metadata": {},
   "outputs": [
    {
     "name": "stdout",
     "output_type": "stream",
     "text": [
      "원본 배열:\n",
      " [[2 3 9 7]\n",
      " [6 2 5 5]\n",
      " [5 7 7 5]\n",
      " [3 4 5 2]]\n",
      "주대각선 (Fancy Indexing): [2 2 7 2]\n",
      "부대각선 (Fancy Indexing): [7 5 7 3]\n",
      "주대각선 (for문): 2 2 7 2 \n",
      "부대각선 (for문): 7 5 7 3 \n"
     ]
    }
   ],
   "source": [
    "# 문제4. 0~9 난수로 이루어진 (4, 4) 배열을 생성하고, 각각 인덱싱으로 추출해 출력하세요.(for 이용)\n",
    "#  주대각선요소(왼쪽위→오른쪽아래) , 부대각선요소(오른쪽위→왼쪽아래)\n",
    "a4 = np.random.randint(0, 10, (4, 4))\n",
    "print(\"원본 배열:\\n\", a4)\n",
    "print(\"주대각선 (Fancy Indexing):\", a4[[0, 1, 2, 3], [0, 1, 2, 3]])\n",
    "print(\"부대각선 (Fancy Indexing):\", a4[[0, 1, 2, 3], [3, 2, 1, 0]])\n",
    "\n",
    "print(\"주대각선 (for문):\", end=\" \")\n",
    "for i in range(4):\n",
    "    print(a4[i, i], end=\" \")\n",
    "print()\n",
    "\n",
    "print(\"부대각선 (for문):\", end=\" \")\n",
    "for i in range(4):\n",
    "    print(a4[i, 3-i], end=\" \")\n",
    "print()\n",
    "\n"
   ]
  },
  {
   "cell_type": "code",
   "execution_count": 114,
   "id": "b5ea70b2",
   "metadata": {},
   "outputs": [
    {
     "name": "stdout",
     "output_type": "stream",
     "text": [
      "원본 배열:\n",
      " [[[1 3 7 6 6]\n",
      "  [7 9 8 6 3]\n",
      "  [3 2 2 7 6]\n",
      "  [6 5 8 7 3]]\n",
      "\n",
      " [[8 2 0 1 6]\n",
      "  [2 2 6 9 5]\n",
      "  [4 4 9 7 1]\n",
      "  [6 6 2 8 3]]\n",
      "\n",
      " [[6 5 4 4 3]\n",
      "  [3 1 5 5 7]\n",
      "  [6 9 7 1 9]\n",
      "  [5 8 7 0 2]]]\n",
      "\n",
      "두 번째 층 첫 번째 행: [8 2 0 1 6]\n",
      "두 번째 층 마지막 열: [6 5 1 3]\n"
     ]
    }
   ],
   "source": [
    "# 문제5. 0~9난수로이루어진(3,4,5)3차원배열을생성하고,두번째층에서첫번째행과마지막 열의 값을 출력하세요.\n",
    "a5 = np.random.randint(0,10,(3,4,5))\n",
    "print(\"원본 배열:\\n\", a5)\n",
    "print(\"\\n두 번째 층 첫 번째 행:\", a5[1, 0, :])\n",
    "print(\"두 번째 층 마지막 열:\", a5[1, :, -1])\n"
   ]
  },
  {
   "cell_type": "code",
   "execution_count": 115,
   "id": "ebf1c67e",
   "metadata": {},
   "outputs": [
    {
     "name": "stdout",
     "output_type": "stream",
     "text": [
      "6. 10x4 배열:\n",
      " [[35 36 37 38]\n",
      " [39 40 41 42]\n",
      " [43 44 45 46]\n",
      " [47 48 49 50]\n",
      " [51 52 53 54]\n",
      " [55 56 57 58]\n",
      " [59 60 61 62]\n",
      " [63 64 65 66]\n",
      " [67 68 69 70]\n",
      " [71 72 73 74]]\n",
      "\n",
      "7. 행 역순 출력:\n",
      " [[71 72 73 74]\n",
      " [67 68 69 70]\n",
      " [63 64 65 66]\n",
      " [59 60 61 62]\n",
      " [55 56 57 58]\n",
      " [51 52 53 54]\n",
      " [47 48 49 50]\n",
      " [43 44 45 46]\n",
      " [39 40 41 42]\n",
      " [35 36 37 38]]\n"
     ]
    }
   ],
   "source": [
    "# 문제6. 35부터 74까지의 순차적인 수로 이루어진 1차원 배열을 만들고 10x4 행렬로 변환 후 출력해 주세요.\n",
    "\n",
    "arr = np.arange(35, 75)   # 35부터 74까지 (총 40개)\n",
    "arr_2d = arr.reshape(10, 4)\n",
    "print(\"6. 10x4 배열:\\n\", arr_2d)\n",
    "\n",
    "\n",
    "# 문제7. 6번에서 만든 배열을 맨 끝의 행부터 역순으로 출력해주세요.\n",
    "print(\"\\n7. 행 역순 출력:\\n\", arr_2d[::-1, :])\n",
    "\n"
   ]
  },
  {
   "cell_type": "code",
   "execution_count": 117,
   "id": "79a53635",
   "metadata": {},
   "outputs": [
    {
     "name": "stdout",
     "output_type": "stream",
     "text": [
      "8. 슬라이싱 결과:\n",
      " [[41 42]\n",
      " [45 46]\n",
      " [49 50]\n",
      " [53 54]\n",
      " [57 58]\n",
      " [61 62]\n",
      " [65 66]\n",
      " [69 70]]\n",
      "9. 원본 배열:\n",
      " [[27  1  1 28 11 50]\n",
      " [13 37 39 13 36 36]\n",
      " [42 47 29 40 13 48]\n",
      " [28 20  6 39 17 33]\n",
      " [18  1 37 41 10 21]]\n",
      "\n",
      " 배열 내 짝수만:\n",
      " [28 50 36 36 42 40 48 28 20  6 18 10]\n"
     ]
    }
   ],
   "source": [
    "# 문제8. 6번에서만든배열중두번째행부터마지막직전행까지,세번째열부터마지막열까지슬라 이싱해서 출력해주세요.\n",
    "\n",
    "arr = np.arange(35, 75).reshape(10, 4)\n",
    "sub_arr = arr[1:9, 2:]\n",
    "print(\"8. 슬라이싱 결과:\\n\", sub_arr)\n",
    "\n",
    "# 문제9. 1부터 50까지의 난수로 된 5x6 배열을 만들고, 배열에서 짝수만 선택하여 출력하는 코드를 작성하세요.\n",
    "\n",
    "rand_arr = np.random.randint(1, 51, (5, 6))\n",
    "print(\"9. 원본 배열:\\n\", rand_arr)\n",
    "\n",
    "even_arr = rand_arr[rand_arr % 2 == 0]\n",
    "print(\"\\n 배열 내 짝수만:\\n\", even_arr)\n"
   ]
  },
  {
   "cell_type": "code",
   "execution_count": 118,
   "id": "50e089ed",
   "metadata": {},
   "outputs": [
    {
     "name": "stdout",
     "output_type": "stream",
     "text": [
      "10. 원본 배열:\n",
      " [[ 0  1  2  3  4  5  6  7  8  9]\n",
      " [10 11 12 13 14 15 16 17 18 19]\n",
      " [20 21 22 23 24 25 26 27 28 29]\n",
      " [30 31 32 33 34 35 36 37 38 39]\n",
      " [40 41 42 43 44 45 46 47 48 49]\n",
      " [50 51 52 53 54 55 56 57 58 59]\n",
      " [60 61 62 63 64 65 66 67 68 69]\n",
      " [70 71 72 73 74 75 76 77 78 79]\n",
      " [80 81 82 83 84 85 86 87 88 89]\n",
      " [90 91 92 93 94 95 96 97 98 99]]\n",
      "\n",
      "10. 교차하는 원소들:\n",
      " [[12 14 16]\n",
      " [32 34 36]\n",
      " [52 54 56]]\n",
      "11. 원본 배열: [2 2 8 9 3 7 0 7 5 6 6 3 0 6 4]\n",
      "\n",
      "11. 짝수 인덱스 중 5 이상: [8 5 6]\n"
     ]
    }
   ],
   "source": [
    "# 문제10. 0부터 99까지의 정수로 이루어진 (10, 10) 배열을 생성한 후, [1, 3, 5]번째 행과 [2, 4, 6]번째 열의 교차하는 원소들만 선택하여 출력하세요.\n",
    "\n",
    "arr = np.arange(100).reshape(10, 10)\n",
    "print(\"10. 원본 배열:\\n\", arr)\n",
    "\n",
    "# [1, 3, 5]번째 행, [2, 4, 6]번째 열의 교차 원소\n",
    "rows = [1, 3, 5]\n",
    "cols = [2, 4, 6]\n",
    "result = arr[np.ix_(rows, cols)]  # ix_를 쓰면 교차하는 원소의 2차원 배열 반환\n",
    "\n",
    "print(\"\\n10. 교차하는 원소들:\\n\", result)\n",
    "\n",
    "\n",
    "\n",
    "# 문제11.  0~9난수로이루어진1차원배열(길이15)을생성하고, 짝수 인덱스 위치에 있는 값들 중에서 5 이상인 값만 선택해 출력하세요.\n",
    "\n",
    "arr = np.random.randint(0, 10, 15)\n",
    "print(\"11. 원본 배열:\", arr)\n",
    "\n",
    "even_index_values = arr[::2]          # 짝수 인덱스 위치의 값들\n",
    "selected = even_index_values[even_index_values >= 5]  # 그 중 5 이상만\n",
    "\n",
    "print(\"\\n11. 짝수 인덱스 중 5 이상:\", selected)\n",
    "\n"
   ]
  },
  {
   "cell_type": "code",
   "execution_count": null,
   "id": "d31dae7f",
   "metadata": {},
   "outputs": [],
   "source": []
  }
 ],
 "metadata": {
  "kernelspec": {
   "display_name": "data_analysis",
   "language": "python",
   "name": "python3"
  },
  "language_info": {
   "codemirror_mode": {
    "name": "ipython",
    "version": 3
   },
   "file_extension": ".py",
   "mimetype": "text/x-python",
   "name": "python",
   "nbconvert_exporter": "python",
   "pygments_lexer": "ipython3",
   "version": "3.13.5"
  }
 },
 "nbformat": 4,
 "nbformat_minor": 5
}
