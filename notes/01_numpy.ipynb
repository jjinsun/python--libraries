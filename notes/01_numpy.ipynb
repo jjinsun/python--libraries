{
 "cells": [
  {
   "cell_type": "markdown",
   "id": "73e5eb06",
   "metadata": {},
   "source": [
    "### 01. NumPy\n",
    "- 다차원 배열을 쉽고 효율적으로 사용할 수 있도록 지원하는 파이썬 라이브러리\n",
    "- 데이터 분석 라이브러리의 근본!!"
   ]
  },
  {
   "cell_type": "markdown",
   "id": "97d26ccc",
   "metadata": {},
   "source": [
    "### 1-1. ndarray\n",
    "- NumPy의 핵심 데이터 구조\n",
    "- 동일한 자료형의 다차원 배열"
   ]
  },
  {
   "cell_type": "code",
   "execution_count": 21,
   "id": "1e384c2f",
   "metadata": {},
   "outputs": [],
   "source": [
    "import numpy as np"
   ]
  },
  {
   "cell_type": "code",
   "execution_count": null,
   "id": "d4ca80a9",
   "metadata": {},
   "outputs": [
    {
     "name": "stdout",
     "output_type": "stream",
     "text": [
      "배열의 구조: (2, 3)\n",
      "배열의 차원: 2\n",
      "배열의 데이터타입: int64\n",
      "배열의 데이터타입: float64\n",
      "수정한 배열의 데이터타입: float64\n"
     ]
    }
   ],
   "source": [
    "# ndarray의 생성\n",
    "a = np.array([[1,2,3],[4,5,6]]) # 2행, 3열\n",
    "b = np.array([1.0, 3.14, 1.24])\n",
    "\n",
    "# 배열의 구조\n",
    "print(f\"배열의 구조: {a.shape}\")\n",
    "\n",
    "# 배열의 차원 수\n",
    "print(f\"배열의 차원: {a.ndim}\")\n",
    "\n",
    "# 데이터 타입\n",
    "print(f\"배열의 데이터타입: {a.dtype}\")\n",
    "print(f\"배열의 데이터타입: {b.dtype}\")\n",
    "\n",
    "# 형변환\n",
    "new_a = a.astype(np.float64)\n",
    "print(f\"수정한 배열의 데이터타입: {new_a.dtype}\")"
   ]
  },
  {
   "cell_type": "code",
   "execution_count": null,
   "id": "92a0bbfd",
   "metadata": {},
   "outputs": [
    {
     "name": "stdout",
     "output_type": "stream",
     "text": [
      "배열의 구조: (3, 2, 3)\n",
      "배열의 차원: 3\n"
     ]
    }
   ],
   "source": [
    "# 3차원 행렬\n",
    "a = np.array([[[1,2,3],[4,5,6]],\n",
    "                [[1,2,3],[4,5,6]], \n",
    "                [[1,2,3],[4,5,6]]])\n",
    "print(f\"배열의 구조: {a.shape}\")\n",
    "print(f\"배열의 차원: {a.ndim}\")"
   ]
  },
  {
   "cell_type": "code",
   "execution_count": 20,
   "id": "993727c5",
   "metadata": {},
   "outputs": [
    {
     "name": "stdout",
     "output_type": "stream",
     "text": [
      "배열의 구조: (2, 3, 2, 3)\n",
      "배열의 차원: 4\n"
     ]
    }
   ],
   "source": [
    "# 4차원 행렬\n",
    "a = np.array([[[[1,2,3],[4,5,6]],\n",
    "                [[1,2,3],[4,5,6]], \n",
    "                [[1,2,3],[4,5,6]]],\n",
    "                \n",
    "                [[[1,2,3],[4,5,6]],\n",
    "                [[1,2,3],[4,5,6]], \n",
    "                [[1,2,3],[4,5,6]]]])\n",
    "print(f\"배열의 구조: {a.shape}\")\n",
    "print(f\"배열의 차원: {a.ndim}\")"
   ]
  },
  {
   "cell_type": "code",
   "execution_count": 18,
   "id": "a6564b21",
   "metadata": {},
   "outputs": [
    {
     "ename": "ValueError",
     "evalue": "setting an array element with a sequence. The requested array has an inhomogeneous shape after 1 dimensions. The detected shape was (2,) + inhomogeneous part.",
     "output_type": "error",
     "traceback": [
      "\u001b[31m---------------------------------------------------------------------------\u001b[39m",
      "\u001b[31mValueError\u001b[39m                                Traceback (most recent call last)",
      "\u001b[36mCell\u001b[39m\u001b[36m \u001b[39m\u001b[32mIn[18]\u001b[39m\u001b[32m, line 3\u001b[39m\n\u001b[32m      1\u001b[39m \u001b[38;5;66;03m# 만들 수 없는 배열\u001b[39;00m\n\u001b[32m      2\u001b[39m \u001b[38;5;66;03m# 내부 배열의 구조가 같아야 함\u001b[39;00m\n\u001b[32m----> \u001b[39m\u001b[32m3\u001b[39m a = \u001b[43mnp\u001b[49m\u001b[43m.\u001b[49m\u001b[43marray\u001b[49m\u001b[43m(\u001b[49m\u001b[43m[\u001b[49m\u001b[43m[\u001b[49m\u001b[32;43m1\u001b[39;49m\u001b[43m]\u001b[49m\u001b[43m,\u001b[49m\u001b[43m[\u001b[49m\u001b[32;43m2\u001b[39;49m\u001b[43m,\u001b[49m\u001b[32;43m3\u001b[39;49m\u001b[43m]\u001b[49m\u001b[43m]\u001b[49m\u001b[43m)\u001b[49m\n",
      "\u001b[31mValueError\u001b[39m: setting an array element with a sequence. The requested array has an inhomogeneous shape after 1 dimensions. The detected shape was (2,) + inhomogeneous part."
     ]
    }
   ],
   "source": [
    "# 만들 수 없는 배열\n",
    "# 내부 배열의 구조가 같아야 함\n",
    "a = np.array([[1],[2,3]])"
   ]
  },
  {
   "cell_type": "markdown",
   "id": "804e2b68",
   "metadata": {},
   "source": [
    "### 1-2. 배열 초기화 "
   ]
  },
  {
   "cell_type": "code",
   "execution_count": 25,
   "id": "8dae4303",
   "metadata": {},
   "outputs": [
    {
     "data": {
      "text/plain": [
       "array([[[0, 0, 0, 0],\n",
       "        [0, 0, 0, 0],\n",
       "        [0, 0, 0, 0]],\n",
       "\n",
       "       [[0, 0, 0, 0],\n",
       "        [0, 0, 0, 0],\n",
       "        [0, 0, 0, 0]]])"
      ]
     },
     "execution_count": 25,
     "metadata": {},
     "output_type": "execute_result"
    }
   ],
   "source": [
    "# 모든 요소가 0인 배열 생성\n",
    "np.zeros((3,4)) # 2차원\n",
    "np.zeros((2,3,4), dtype=np.int64) # 3차원"
   ]
  },
  {
   "cell_type": "code",
   "execution_count": 26,
   "id": "43c5f047",
   "metadata": {},
   "outputs": [
    {
     "data": {
      "text/plain": [
       "array([[1., 1., 1., 1., 1., 1.],\n",
       "       [1., 1., 1., 1., 1., 1.],\n",
       "       [1., 1., 1., 1., 1., 1.],\n",
       "       [1., 1., 1., 1., 1., 1.],\n",
       "       [1., 1., 1., 1., 1., 1.]])"
      ]
     },
     "execution_count": 26,
     "metadata": {},
     "output_type": "execute_result"
    }
   ],
   "source": [
    "# 모든 요소가 1인 배열 생성\n",
    "np.ones((5,6))"
   ]
  },
  {
   "cell_type": "code",
   "execution_count": 27,
   "id": "3989cbb7",
   "metadata": {},
   "outputs": [
    {
     "data": {
      "text/plain": [
       "array([[4.9e-324, 9.9e-324, 1.5e-323],\n",
       "       [2.0e-323, 2.5e-323, 3.0e-323]])"
      ]
     },
     "execution_count": 27,
     "metadata": {},
     "output_type": "execute_result"
    }
   ],
   "source": [
    "# (원소의 값이) 초기화 되지 않은 배열 생성\n",
    "np.empty((2,3))"
   ]
  },
  {
   "cell_type": "code",
   "execution_count": 28,
   "id": "b4585b25",
   "metadata": {},
   "outputs": [
    {
     "data": {
      "text/plain": [
       "array([[7, 7, 7],\n",
       "       [7, 7, 7],\n",
       "       [7, 7, 7]])"
      ]
     },
     "execution_count": 28,
     "metadata": {},
     "output_type": "execute_result"
    }
   ],
   "source": [
    "# 주어진 값으로 채운 배열\n",
    "np.full((3,3), 7)"
   ]
  },
  {
   "cell_type": "code",
   "execution_count": null,
   "id": "86d75096",
   "metadata": {},
   "outputs": [
    {
     "data": {
      "text/plain": [
       "array([[0., 1., 0., 0., 0.],\n",
       "       [0., 0., 1., 0., 0.],\n",
       "       [0., 0., 0., 1., 0.]])"
      ]
     },
     "execution_count": 33,
     "metadata": {},
     "output_type": "execute_result"
    }
   ],
   "source": [
    "# 단위 행렬\n",
    "np.eye(3,3) # 정사각형\n",
    "np.eye(3,5) # 직각사각형\n",
    "np.eye(3,5,1) # 3번째 인자를 입력 → 1이 오른쪽으로 이동 / 음수를 입력하면 반대로 이동"
   ]
  },
  {
   "cell_type": "code",
   "execution_count": null,
   "id": "41a62593",
   "metadata": {},
   "outputs": [],
   "source": [
    "### 1-3. 범위 기반 배열 생성"
   ]
  },
  {
   "cell_type": "code",
   "execution_count": 38,
   "id": "85f49b9f",
   "metadata": {},
   "outputs": [
    {
     "data": {
      "text/plain": [
       "array([0, 2, 4, 6, 8])"
      ]
     },
     "execution_count": 38,
     "metadata": {},
     "output_type": "execute_result"
    }
   ],
   "source": [
    "# arange : range()와 유사한 기능을 제공\n",
    "# 시작 이상 끝 미만의 정수 배열을 지정한 간격으로 생성\n",
    "np.arange(0, 10)\n",
    "np.arange(0, 10, 2) # 간격 지정"
   ]
  },
  {
   "cell_type": "code",
   "execution_count": 41,
   "id": "cb8d8abf",
   "metadata": {},
   "outputs": [
    {
     "data": {
      "text/plain": [
       "array([0.1, 0.2, 0.3, 0.4, 0.5, 0.6, 0.7, 0.8, 0.9, 1. ])"
      ]
     },
     "execution_count": 41,
     "metadata": {},
     "output_type": "execute_result"
    }
   ],
   "source": [
    "# linspace : 시작 ~ 끝까지 균일 간격으로 지정한 개수만큼 숫자를 생성\n",
    "# 끝을 포함\n",
    "np.linspace(10, 100, 10)\n",
    "np.linspace(0.1, 1, 10)"
   ]
  },
  {
   "cell_type": "code",
   "execution_count": 44,
   "id": "83b1d020",
   "metadata": {},
   "outputs": [
    {
     "data": {
      "text/plain": [
       "array([[  5.,  10.,  15.,  20.,  25.],\n",
       "       [ 30.,  35.,  40.,  45.,  50.],\n",
       "       [ 55.,  60.,  65.,  70.,  75.],\n",
       "       [ 80.,  85.,  90.,  95., 100.]])"
      ]
     },
     "execution_count": 44,
     "metadata": {},
     "output_type": "execute_result"
    }
   ],
   "source": [
    "# reshape : 배열의 구조를 재배치\n",
    "# np.linspace(1, 10, 10).reshape((2,3)) # 원소의 개수가 같아야 한다.\n",
    "np.linspace(5, 100, 20).reshape((4,5))"
   ]
  },
  {
   "cell_type": "markdown",
   "id": "6f39cbf2",
   "metadata": {},
   "source": [
    "### 1-4. 랜덤 배열 생성"
   ]
  },
  {
   "cell_type": "code",
   "execution_count": 45,
   "id": "39848d2f",
   "metadata": {},
   "outputs": [
    {
     "data": {
      "text/plain": [
       "array([[0.36431563, 0.18327334, 0.00625487],\n",
       "       [0.29111952, 0.6674093 , 0.23828754]])"
      ]
     },
     "execution_count": 45,
     "metadata": {},
     "output_type": "execute_result"
    }
   ],
   "source": [
    "# random.rand(m, n) 0~1 사이의 난수로 초기화\n",
    "np.random.rand(2,3)"
   ]
  },
  {
   "cell_type": "code",
   "execution_count": 46,
   "id": "63ad85b0",
   "metadata": {},
   "outputs": [
    {
     "data": {
      "text/plain": [
       "array([[-1.56608544, -0.26335493, -1.13575782, -0.97180762,  0.38931627],\n",
       "       [ 1.08345269,  0.49685678, -0.35927774, -0.16021959, -0.99602417],\n",
       "       [ 0.46997017,  0.10828818, -0.70024551, -0.30105073, -1.33688689],\n",
       "       [ 0.09207837,  0.08643128,  0.19249964,  0.13613595, -1.01399956]])"
      ]
     },
     "execution_count": 46,
     "metadata": {},
     "output_type": "execute_result"
    }
   ],
   "source": [
    "# random.randn(m, n) : 표준정규분포를 따르는 난수로 초기화\n",
    "# 표준정규분포 : 평균 0, 분산 1인 정규분포\n",
    "np.random.randn(4,5)"
   ]
  },
  {
   "cell_type": "code",
   "execution_count": 48,
   "id": "67d848f2",
   "metadata": {},
   "outputs": [
    {
     "name": "stdout",
     "output_type": "stream",
     "text": [
      "[[27 59 13]\n",
      " [97 88 72]\n",
      " [ 4 42 24]]\n"
     ]
    }
   ],
   "source": [
    "# random.randint(low, high, (size))\n",
    "print(np.random.randint(0, 101, (3,3)))"
   ]
  },
  {
   "cell_type": "code",
   "execution_count": null,
   "id": "d415796e",
   "metadata": {},
   "outputs": [
    {
     "name": "stdout",
     "output_type": "stream",
     "text": [
      "[[0.37454012 0.95071431 0.73199394]\n",
      " [0.59865848 0.15601864 0.15599452]]\n",
      "[[ 1.57921282  0.76743473]\n",
      " [-0.46947439  0.54256004]]\n",
      "[[63 59 20]\n",
      " [32 75 57]\n",
      " [21 88 48]]\n"
     ]
    }
   ],
   "source": [
    "# random.seed() : 난수 생성시 시작값 제공\n",
    "np.random.seed(42) # seed를 고정하면 고정된 값만 나온다.\n",
    "print(np.random.rand(2,3))\n",
    "print(np.random.randn(2,2))\n",
    "print(np.random.randint(0, 101, (3,3)))"
   ]
  },
  {
   "cell_type": "code",
   "execution_count": 66,
   "id": "377f5ed4",
   "metadata": {},
   "outputs": [
    {
     "name": "stdout",
     "output_type": "stream",
     "text": [
      "[[0.77395605 0.43887844]\n",
      " [0.85859792 0.69736803]\n",
      " [0.09417735 0.97562235]]\n",
      "[[-1.10333845 -0.72502464 -0.78180526  0.26697586 -0.24858073]\n",
      " [ 0.12648305  0.84304257  0.85793655  0.47518364 -0.4507686 ]\n",
      " [-0.75493228 -0.81481411 -0.34385486 -0.05138009 -0.97227368]\n",
      " [-1.13448753  0.30570522 -1.85168503 -0.17705351  0.42582567]]\n",
      "[[48 61]\n",
      " [72 14]]\n",
      "[[76.1139702  78.60643053 12.81136327 45.03859379]\n",
      " [37.07980242 92.67649888 64.38651201 82.27616133]\n",
      " [44.34141988 22.72387218 55.4584787   6.38172561]\n",
      " [82.7631172  63.16643991 75.80877401 35.45259681]]\n"
     ]
    }
   ],
   "source": [
    "# RNG(Random Number Generator)\n",
    "# 최근 파이썬 사용에서 권장되는 방식\n",
    "\n",
    "from numpy.random import default_rng\n",
    "rng = default_rng(seed=42)\n",
    "rng2 = default_rng(seed=10)\n",
    "rng3 = default_rng()\n",
    "\n",
    "print(rng.random((3,2))) # 0~1 사이의 난수\n",
    "print(rng2.normal(0, 1, (4,5))) # 정규분포\n",
    "print(rng3.integers(0, 100, (2,2))) # 정수 난수\n",
    "print(rng.uniform(0, 100, (4,4))) # 균등 분포"
   ]
  },
  {
   "cell_type": "code",
   "execution_count": 82,
   "id": "ecf1a90b",
   "metadata": {},
   "outputs": [
    {
     "name": "stdout",
     "output_type": "stream",
     "text": [
      "문제1 [[5 5 5 5]\n",
      " [5 5 5 5]\n",
      " [5 5 5 5]]\n",
      "문제2 [ 0  2  4  6  8 10 12 14 16 18]\n",
      "문제3 [[0.52083426 0.96117202 0.84453385]\n",
      " [0.74732011 0.53969213 0.58675117]]\n",
      "문제4 [101.92832958 108.38204211  80.93944422  79.04258795  62.48646456\n",
      "  72.66435722]\n",
      "문제5 [[ 1  2  3  4  5]\n",
      " [ 6  7  8  9 10]\n",
      " [11 12 13 14 15]\n",
      " [16 17 18 19 20]]\n",
      "문제6 [[0.         0.09090909 0.18181818 0.27272727]\n",
      " [0.36363636 0.45454545 0.54545455 0.63636364]\n",
      " [0.72727273 0.81818182 0.90909091 1.        ]]\n",
      "문제7 [[ 8 87 62 10 80  7 34 34 32  4]\n",
      " [40 28  6 72 71 11 33 32 47 22]\n",
      " [61 87 37 98 43 85 90 34 64 98]\n",
      " [46 77  2  1  4 89 13 26  8 78]\n",
      " [14 89 41 76 51 62 95 51 95  3]\n",
      " [93 22 14 42 28 36 12 31 70 58]\n",
      " [85 27 65 41 44 61 57  5 27 27]\n",
      " [43 83 29 61 74 91 88 62 96  0]\n",
      " [26 61 76  2 69 71 26  8 62 36]\n",
      " [96 50 43 23 78 58 31 95 87 52]]\n",
      "문제8 [[[0 0 9 3]\n",
      "  [6 1 2 0]\n",
      "  [4 0 7 0]]\n",
      "\n",
      " [[0 1 1 5]\n",
      "  [6 4 0 0]\n",
      "  [2 1 4 9]]]\n"
     ]
    }
   ],
   "source": [
    "# 실습1. 배열 초기화 및 생성(1)\n",
    "np.zeros((3,4)) \n",
    "print(f\"문제1\", np.full((3,4), 5))\n",
    "\n",
    "print(f\"문제2\", np.arange(0, 20, 2))\n",
    "\n",
    "print(f\"문제3\", np.random.rand(2,3))\n",
    "\n",
    "print(f\"문제4\", np.random.normal(loc=100, scale=20, size=6))\n",
    "\n",
    "print(f\"문제5\", np.arange(1, 21).reshape(4, 5))\n",
    "\n",
    "print(f\"문제6\", np.linspace(0, 1, 12).reshape(3, 4))\n",
    "      \n",
    "arr = np.random.randint(0, 100, (10, 10))\n",
    "eye = np.eye(10, dtype=int)\n",
    "print(f\"문제7\", arr + eye)\n",
    "      \n",
    "\n",
    "print(f\"문제8\", np.random.randint(0, 10, (2, 3, 4)))\n",
    "\n",
    "\n",
    "\n",
    "\n",
    "\n",
    "\n"
   ]
  },
  {
   "cell_type": "code",
   "execution_count": null,
   "id": "fa551395",
   "metadata": {},
   "outputs": [],
   "source": []
  }
 ],
 "metadata": {
  "kernelspec": {
   "display_name": "data_analysis",
   "language": "python",
   "name": "python3"
  },
  "language_info": {
   "codemirror_mode": {
    "name": "ipython",
    "version": 3
   },
   "file_extension": ".py",
   "mimetype": "text/x-python",
   "name": "python",
   "nbconvert_exporter": "python",
   "pygments_lexer": "ipython3",
   "version": "3.13.5"
  }
 },
 "nbformat": 4,
 "nbformat_minor": 5
}
